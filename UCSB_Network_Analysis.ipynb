{
  "cells": [
    {
      "cell_type": "markdown",
      "metadata": {
        "id": "uAvFoLdgxyAI"
      },
      "source": [
        "Wi-Fi Performance Data Collection\n",
        "This notebook simulates the collection of Wi-Fi performance metrics across UCSB locations.\n",
        "Metrics include:\n",
        "- Download/Upload Speed (via Speedtest)\n",
        "- Latency, Jitter, and Packet Loss (simulated values)\n",
        "The data will be saved for further analysis."
      ]
    },
    {
      "cell_type": "code",
      "execution_count": null,
      "metadata": {
        "id": "o26yuYRFx0tI"
      },
      "outputs": [],
      "source": [
        "# Import Libraries\n",
        "# Uncomment line below to install in env\n",
        "# !pip install speedtest-cli\n",
        "import speedtest\n",
        "import random\n",
        "import json\n",
        "import os"
      ]
    },
    {
      "cell_type": "code",
      "execution_count": null,
      "metadata": {
        "id": "Ra7a2NG1x9qB"
      },
      "outputs": [],
      "source": [
        "\"\"\"\n",
        "Simulate the collection of Wi-Fi performance metrics using Speedtest and random generators\n",
        "for additional parameters like latency, jitter, and packet loss.\n",
        "Returns a dictionary with the collected metrics.\n",
        "\"\"\"\n",
        "def simulate_metrics():\n",
        "    try:\n",
        "        # Initialize Speedtest\n",
        "        st = speedtest.Speedtest()\n",
        "        st.get_best_server()\n",
        "\n",
        "        # Collect download/upload speed\n",
        "        download_speed = st.download() / 1e6  # Convert to Mbps\n",
        "        upload_speed = st.upload() / 1e6  # Convert to Mbps\n",
        "\n",
        "        # Simulate additional metrics\n",
        "        latency = random.uniform(10, 100)  # Latency in ms\n",
        "        jitter = random.uniform(1, 30)  # Jitter in ms\n",
        "        packet_loss = random.uniform(0, 5)  # Packet loss in %\n",
        "\n",
        "        # Return as a dictionary\n",
        "        return {\n",
        "            \"Download_Speed\": round(download_speed, 2),\n",
        "            \"Upload_Speed\": round(upload_speed, 2),\n",
        "            \"Latency\": round(latency, 2),\n",
        "            \"Jitter\": round(jitter, 2),\n",
        "            \"Packet_Loss\": round(packet_loss, 2),\n",
        "        }\n",
        "    except Exception as e:\n",
        "        print(f\"Error collecting metrics: {e}\")\n",
        "        return None"
      ]
    },
    {
      "cell_type": "code",
      "execution_count": null,
      "metadata": {
        "id": "H1GaONWAyLaV"
      },
      "outputs": [],
      "source": [
        "\"\"\"\n",
        "Collect multiple samples of Wi-Fi performance metrics for a specific location and condition.\n",
        "Saves the results to a list for further processing or storage.\n",
        "\"\"\"\n",
        "def collect_data(location, condition, num_samples=10):\n",
        "    results = []\n",
        "    print(f\"Starting data collection for {location} under {condition} condition.\")\n",
        "\n",
        "    for i in range(num_samples):\n",
        "        # Simulate metrics collection\n",
        "        metrics = simulate_metrics()\n",
        "        if metrics:\n",
        "            # Add location and condition metadata\n",
        "            metrics[\"Location\"] = location\n",
        "            metrics[\"Condition\"] = condition\n",
        "            results.append(metrics)\n",
        "            print(f\"Sample {i + 1}/{num_samples} collected.\")\n",
        "        else:\n",
        "            print(f\"Skipping sample {i + 1} due to an error.\")\n",
        "\n",
        "    print(f\"Completed data collection for {location} under {condition} condition.\")\n",
        "    return results"
      ]
    },
    {
      "cell_type": "code",
      "execution_count": null,
      "metadata": {
        "id": "VDdPesGSyP8d"
      },
      "outputs": [],
      "source": [
        "\"\"\"\n",
        "Save the collected data to a local JSON file for the specified location and condition.\n",
        "\"\"\"\n",
        "def save_results(data, location, condition):\n",
        "    file_name = f\"{location.replace(' ', '_')}_{condition}.json\"\n",
        "    with open(file_name, 'w') as file:\n",
        "        json.dump(data, file, indent=4)\n",
        "    print(f\"Data saved to {file_name}\")"
      ]
    },
    {
      "cell_type": "code",
      "execution_count": null,
      "metadata": {
        "colab": {
          "base_uri": "https://localhost:8080/",
          "height": 936
        },
        "id": "6SDSzwrcyVrU",
        "outputId": "3868abe4-002d-4111-9247-e9890287767e"
      },
      "outputs": [],
      "source": [
        "'''\n",
        "Main Execution\n",
        "'''\n",
        "# Define locations and conditions\n",
        "locations = [\"Library\", \"Lecture Hall\", \"Outdoor Plaza\"]\n",
        "conditions = [\"Peak\", \"Off-Peak\"]\n",
        "\n",
        "# Loop through each location and condition\n",
        "for location in locations:\n",
        "    for condition in conditions:\n",
        "        # Collect data for the location and condition\n",
        "        data = collect_data(location, condition, num_samples=10)\n",
        "\n",
        "        # Save the results to a JSON file\n",
        "        save_results(data, location, condition)"
      ]
    }
  ],
  "metadata": {
    "colab": {
      "provenance": []
    },
    "kernelspec": {
      "display_name": "Python 3",
      "language": "python",
      "name": "python3"
    },
    "language_info": {
      "name": "python",
      "version": "3.12.3"
    },
    "orig_nbformat": 4
  },
  "nbformat": 4,
  "nbformat_minor": 0
}
